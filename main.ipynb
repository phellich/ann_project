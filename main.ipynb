{
 "cells": [
  {
   "cell_type": "code",
   "execution_count": 3,
   "metadata": {},
   "outputs": [],
   "source": [
    "# pip install gymnasium\n",
    "# pip install pygame\n",
    "# pip install torch\n",
    "\n",
    "import gymnasium as gym\n",
    "from tqdm import tqdm\n",
    "import matplotlib.pyplot as plt\n",
    "import pygame\n",
    "import torch\n",
    "import torch.nn as nn\n",
    "import torch.nn.functional as F\n",
    "import numpy as np\n",
    "from collections import deque\n",
    "import random\n",
    "\n",
    "device = torch.device(\"cuda\" if torch.cuda.is_available() else \"cpu\")"
   ]
  },
  {
   "cell_type": "markdown",
   "metadata": {},
   "source": [
    "# 2. First steps"
   ]
  },
  {
   "cell_type": "markdown",
   "metadata": {},
   "source": [
    "We will start by gaining intuition on the task at hand by running a random agent. Create a\n",
    "RandomAgent, which selects actions randomly. "
   ]
  },
  {
   "cell_type": "code",
   "execution_count": 24,
   "metadata": {},
   "outputs": [],
   "source": [
    "class RandomAgent:\n",
    "        \n",
    "    def observe(self, state, action, next_state, reward):\n",
    "        \"\"\"Called upon observing a new transistion of the environment\"\"\"\n",
    "        pass\n",
    "    \n",
    "    def select_action(self, state):\n",
    "        \"\"\"\"Pick an action from the given state\"\"\"\n",
    "        return env.action_space.sample()\n",
    "    \n",
    "    def update(self):\n",
    "        \"\"\"\"Called after each environment step. \n",
    "        This is where all the training takes place\"\"\"\n",
    "        pass"
   ]
  },
  {
   "cell_type": "markdown",
   "metadata": {},
   "source": [
    "Run the agent on the environment until the episode is\n",
    "either truncated or terminated. Store the episode and render (visualize) it."
   ]
  },
  {
   "cell_type": "code",
   "execution_count": 15,
   "metadata": {},
   "outputs": [],
   "source": [
    "env = gym.make('MountainCar-v0', render_mode='human')\n",
    "\n",
    "agent = RandomAgent()\n",
    "\n",
    "done = False\n",
    "state, _ = env.reset()\n",
    "episode_reward = 0\n",
    "\n",
    "states = []\n",
    "actions = []\n",
    "rewards = []\n",
    "\n",
    "while not done:\n",
    "    env.render()\n",
    "    action = agent.select_action(state)\n",
    "    next_state, reward, terminated, truncated, _ = env.step(action)\n",
    "\n",
    "    episode_reward += reward\n",
    "    states.append(state)\n",
    "    actions.append(action)\n",
    "    rewards.append(reward)\n",
    "\n",
    "    state = next_state\n",
    "    done = terminated or truncated\n",
    "\n",
    "env.close() "
   ]
  },
  {
   "cell_type": "markdown",
   "metadata": {},
   "source": [
    "Now run the agent for 100 episodes. At every episode initialize the environment with a new randomly\n",
    "sampled seed. Plot the duration of each episode as a scatter plot. What do you find? Explain."
   ]
  },
  {
   "cell_type": "code",
   "execution_count": 25,
   "metadata": {},
   "outputs": [
    {
     "name": "stderr",
     "output_type": "stream",
     "text": [
      "100%|██████████| 100/100 [00:00<00:00, 331.99it/s]\n"
     ]
    }
   ],
   "source": [
    "env = gym.make('MountainCar-v0')\n",
    "\n",
    "agent = RandomAgent()\n",
    "episode_durations = []\n",
    "n_episodes = 100\n",
    "for n in tqdm(range(n_episodes)):\n",
    "\n",
    "    done = False\n",
    "    state, _ = env.reset()\n",
    "    episode_length = 0\n",
    "    \n",
    "    while not done:\n",
    "        action = agent.select_action(state)\n",
    "        next_state, reward, terminated, truncated, _ = env.step(action)\n",
    "\n",
    "        state = next_state\n",
    "        episode_length += 1\n",
    "        done = terminated or truncated\n",
    "\n",
    "    episode_durations.append(episode_length)"
   ]
  },
  {
   "cell_type": "code",
   "execution_count": 26,
   "metadata": {},
   "outputs": [
    {
     "data": {
      "image/png": "[encoded data removed]",
      "text/plain": [
       "<Figure size 640x480 with 1 Axes>"
      ]
     },
     "metadata": {},
     "output_type": "display_data"
    }
   ],
   "source": [
    "plt.scatter(range(n_episodes), episode_durations)\n",
    "plt.xlabel('Episode')\n",
    "plt.ylabel('Duration')\n",
    "plt.title('Duration per Episode for RandomAgent')\n",
    "plt.show()"
   ]
  },
  {
   "cell_type": "markdown",
   "metadata": {},
   "source": [
    "We find that by taking random actions, the car is never lucky and cannot finish even a single episode. "
   ]
  },
  {
   "cell_type": "markdown",
   "metadata": {},
   "source": [
    "# 3. DQN"
   ]
  },
  {
   "cell_type": "markdown",
   "metadata": {},
   "source": [
    "## 3.1 Implementation\n",
    "Create a `DQNAgent` class that implements a DQN agent that uses a feed-forward network to estimate\n",
    "Q-values and an eps-greedy policy to take actions. Since DQN is an off-policy RL algorithm, make sure\n",
    "your class has a replay buffer that allows to add observed transitions `(s,a,r,s′)` and sample batches of\n",
    "transitions for the network updates"
   ]
  },
  {
   "cell_type": "code",
   "execution_count": 7,
   "metadata": {},
   "outputs": [],
   "source": [
    "class DQNAgent:\n",
    "\n",
    "    def __init__(self, env, auxiliary_reward, eps = 0.1):\n",
    "        self.env = env\n",
    "        self.Q = nn.Sequential(\n",
    "            nn.Linear(2, 64),\n",
    "            nn.ReLU(),\n",
    "            nn.Linear(64, 64),\n",
    "            nn.ReLU(),\n",
    "            nn.Linear(64, 3),\n",
    "        )\n",
    "        self.gamma = 0.99\n",
    "        self.epsilon = eps\n",
    "        self.replay_buffer = deque(maxlen=10000) # Using deque for efficient removal of old experiences\n",
    "        self.batch_size = 64\n",
    "        self.optimizer = torch.optim.Adam(\n",
    "            self.Q.parameters(),\n",
    "            lr = 0.001\n",
    "        )\n",
    "        self.t = 0\n",
    "    \n",
    "    def observe(self, state, action, next_state, reward):\n",
    "        \"\"\"Called upon observing a new transition of the environment\"\"\"\n",
    "        self.replay_buffer.append((state, action, next_state, reward))\n",
    "    \n",
    "    def select_action(self, state):\n",
    "        \"\"\"\" Pick an action from the given state \"\"\"\n",
    "        state_tensor = torch.tensor(state, dtype=torch.float32).unsqueeze(0)  # Convert to tensor and add batch dimension\n",
    "        Q_values = self.Q(state_tensor)\n",
    "        action = self.epsilon_greedy(Q_values)\n",
    "        return action.item()  # Return as Python int\n",
    "    \n",
    "    def update(self): # chatGPT\n",
    "        if len(self.replay_buffer) < self.batch_size:\n",
    "            return 0 # Not enough samples\n",
    "        \n",
    "        transitions_minibatch = random.sample(self.replay_buffer, self.batch_size)\n",
    "        states, actions, next_states, rewards = zip(*transitions_minibatch)\n",
    "        states = torch.tensor(states, dtype=torch.float32)\n",
    "        actions = torch.tensor(actions, dtype=torch.long)\n",
    "        next_states = torch.tensor(next_states, dtype=torch.float32)\n",
    "        rewards = torch.tensor(rewards, dtype=torch.float32)\n",
    "\n",
    "        current_qs = self.Q(states).gather(1, actions.unsqueeze(1)).squeeze(1)\n",
    "        next_qs = self.Q(next_states).max(1)[0].detach()\n",
    "        targets = rewards + self.gamma * next_qs\n",
    "\n",
    "        loss = F.mse_loss(current_qs, targets)\n",
    "        self.optimizer.zero_grad()\n",
    "        loss.backward()\n",
    "        self.optimizer.step()\n",
    "        return loss\n",
    "\n",
    "    def epsilon_greedy(self, Q_val):\n",
    "        \"\"\" Chooses an epsilon-greedy action starting from a given state and given Q-values \"\"\"\n",
    "        if np.random.uniform(0, 1) < self.epsilon:\n",
    "            # with probability epsilon make a random move (exploration)\n",
    "            return torch.tensor(self.env.action_space.sample()) # env.action_space.sample() \n",
    "        else:\n",
    "            # with probability 1-epsilon choose the action with the highest immediate reward (exploitation)\n",
    "            return torch.argmax(Q_val) "
   ]
  },
  {
   "cell_type": "markdown",
   "metadata": {},
   "source": [
    "Train the DQNAgent for 1000 episodes and report its loss and average cumulative reward per episode.\n",
    "Does your agent solve the task?"
   ]
  },
  {
   "cell_type": "code",
   "execution_count": 9,
   "metadata": {},
   "outputs": [
    {
     "name": "stderr",
     "output_type": "stream",
     "text": [
      "  0%|          | 0/1000 [00:00<?, ?it/s]C:\\Users\\helli\\AppData\\Local\\Temp\\ipykernel_16888\\2429567794.py:66: UserWarning: Creating a tensor from a list of numpy.ndarrays is extremely slow. Please consider converting the list to a single numpy.ndarray with numpy.array() before converting to a tensor. (Triggered internally at C:\\actions-runner\\_work\\pytorch\\pytorch\\builder\\windows\\pytorch\\torch\\csrc\\utils\\tensor_new.cpp:277.)\n",
      "  states = torch.tensor(states, dtype=torch.float32)\n",
      "100%|██████████| 1000/1000 [07:09<00:00,  2.33it/s]\n"
     ]
    }
   ],
   "source": [
    "env = gym.make('MountainCar-v0')\n",
    "\n",
    "agent = DQNAgent(env, auxiliary_reward=False, eps=0.1)\n",
    "episode_durations = []\n",
    "episode_rewards = []\n",
    "episode_losses = []\n",
    "n_episodes = 1000\n",
    "for n in tqdm(range(n_episodes)):\n",
    "\n",
    "    done = False\n",
    "    state, _ = env.reset()\n",
    "    episode_reward = 0\n",
    "    episode_length = 0\n",
    "    episode_loss = 0\n",
    "    \n",
    "    while not done:\n",
    "        action = agent.select_action(state)\n",
    "        next_state, reward, terminated, truncated, _ = env.step(action)\n",
    "        agent.observe(state, action, next_state, reward)\n",
    "\n",
    "        loss = agent.update()\n",
    "        state = next_state\n",
    "        episode_length += 1\n",
    "        episode_loss += loss \n",
    "        episode_reward += reward\n",
    "        done = terminated or truncated\n",
    "\n",
    "    episode_durations.append(episode_length)\n",
    "    episode_rewards.append(episode_reward)\n",
    "    episode_losses.append(episode_loss)"
   ]
  },
  {
   "cell_type": "code",
   "execution_count": 10,
   "metadata": {},
   "outputs": [
    {
     "name": "stdout",
     "output_type": "stream",
     "text": [
      "The average cumulative reward per episode is -200.0\n"
     ]
    }
   ],
   "source": [
    "print(f\"The average cumulative reward per episode is {sum(episode_rewards)/n_episodes}\")"
   ]
  },
  {
   "cell_type": "code",
   "execution_count": 22,
   "metadata": {},
   "outputs": [
    {
     "data": {
      "image/png": "[encoded data removed]",
      "text/plain": [
       "<Figure size 640x480 with 1 Axes>"
      ]
     },
     "metadata": {},
     "output_type": "display_data"
    }
   ],
   "source": [
    "episode_losses_array = [x.detach().numpy() for x in episode_losses]\n",
    "plt.scatter(range(n_episodes), episode_losses_array)\n",
    "plt.yscale(\"log\")\n",
    "plt.xlabel('Episode')\n",
    "plt.ylabel('Loss')\n",
    "plt.title('Loss per Episode for DQN Agent without Auxiliary Reward')\n",
    "plt.show()"
   ]
  },
  {
   "cell_type": "code",
   "execution_count": 23,
   "metadata": {},
   "outputs": [],
   "source": [
    "env = gym.make('MountainCar-v0', render_mode='human')\n",
    "\n",
    "done = False\n",
    "state, _ = env.reset()\n",
    "\n",
    "while not done:\n",
    "    env.render()\n",
    "    action = agent.select_action(state)\n",
    "    next_state, reward, terminated, truncated, _ = env.step(action)\n",
    "    # agent.observe(state, action, next_state, reward)\n",
    "\n",
    "    # agent.update()\n",
    "    state = next_state\n",
    "    done = terminated or truncated\n",
    "\n",
    "env.close() "
   ]
  },
  {
   "cell_type": "markdown",
   "metadata": {},
   "source": [
    "No, the agent does not solve the task. However, we see that the actions are not random anymore: the agent mostly want to accelerate to the right. "
   ]
  },
  {
   "cell_type": "markdown",
   "metadata": {},
   "source": [
    "## 3.3 Heuristic reward function"
   ]
  },
  {
   "cell_type": "code",
   "execution_count": null,
   "metadata": {},
   "outputs": [],
   "source": [
    "env = gym.make('MountainCar-v0')\n",
    "\n",
    "agent_with_AR = DQNAgent(env, auxiliary_reward=True, eps=0.1)\n",
    "episode_durations = []\n",
    "episode_rewards = []\n",
    "episode_losses = []\n",
    "n_episodes = 1000\n",
    "for n in tqdm(range(n_episodes)):\n",
    "\n",
    "    done = False\n",
    "    state, _ = env.reset()\n",
    "    episode_reward = 0\n",
    "    episode_length = 0\n",
    "    episode_loss = 0\n",
    "    \n",
    "    while not done:\n",
    "        action = agent_with_AR.select_action(state)\n",
    "        next_state, reward, terminated, truncated, _ = env.step(action)\n",
    "        agent_with_AR.observe(state, action, next_state, reward)\n",
    "\n",
    "        loss = agent_with_AR.update()\n",
    "        state = next_state\n",
    "        episode_length += 1\n",
    "        episode_loss += loss \n",
    "        episode_reward += reward\n",
    "        done = terminated or truncated\n",
    "\n",
    "    episode_durations.append(episode_length)\n",
    "    episode_rewards.append(episode_reward)\n",
    "    episode_losses.append(episode_loss)"
   ]
  },
  {
   "cell_type": "markdown",
   "metadata": {},
   "source": [
    "# Tests"
   ]
  },
  {
   "cell_type": "markdown",
   "metadata": {},
   "source": [
    "## 3.1"
   ]
  },
  {
   "cell_type": "code",
   "execution_count": null,
   "metadata": {},
   "outputs": [],
   "source": [
    "class DQNAgent:\n",
    "\n",
    "    def __init__(self, eps = 0.1):\n",
    "        self.env = env\n",
    "        self.Q = nn.Sequential(\n",
    "            nn.Linear(2, 64),\n",
    "            nn.ReLU(),\n",
    "            nn.Linear(64, 64),\n",
    "            nn.ReLU(),\n",
    "            nn.Linear(64, 64),\n",
    "            nn.ReLU(),\n",
    "            nn.Linear(64, 3),\n",
    "        )\n",
    "        self.gamma = 0.99\n",
    "        self.epsilon = eps\n",
    "        self.replay_buffer = np.empty(10000)\n",
    "        self.batch_size = 64\n",
    "        self.optimizer = torch.optim.Adam(\n",
    "            self.Q.parameters(),\n",
    "            lr = 0.001\n",
    "        )\n",
    "        self.t = 0\n",
    "    \n",
    "    def observe(self, state, action, next_state, reward):\n",
    "        \"\"\"Called upon observing a new transition of the environment\"\"\"\n",
    "        transition = (state, action, next_state, reward)\n",
    "        self.replay_buffer = np.insert(self.replay_buffer, 0, transition) # new trans at the beginning of R\n",
    "        if len(self.replay_buffer) > 10000:\n",
    "            self.replay_buffer = self.replay_buffer[:10000]\n",
    "    \n",
    "    def select_action(self, state):\n",
    "        \"\"\"\" Pick an action from the given state \"\"\"\n",
    "        state_tensor = torch.from_numpy(state)\n",
    "        Q_values = self.Q(state_tensor)\n",
    "        action = self.epsilon_greedy(Q_values)\n",
    "        return action\n",
    "    \n",
    "    def update(self):\n",
    "        \"\"\"\" Called after each environment step. \n",
    "        This is where all the training takes place \"\"\"\n",
    "        \n",
    "        transitions_minibtach = np.random.choice(self.replay_buffer, self.batch_size, replace=False)\n",
    "\n",
    "        loss = self.compute_loss(transitions_minibtach)\n",
    "        loss.backward()  # Compute gradients\n",
    "        self.optimizer.step()\n",
    "        self.t += 1\n",
    "\n",
    "    def compute_loss(self, transitions_minibtach):\n",
    "        loss = 0\n",
    "        for transition in transitions_minibtach:\n",
    "            s, a, r, s2 = transition\n",
    "            loss += (r + self.gamma * torch.max(self.Q(s2)) - self.Q(s))**2\n",
    "        return loss\n",
    "\n",
    "    def epsilon_greedy(self, Q_val):\n",
    "        \"\"\" Chooses an epsilon-greedy action starting from a given state and given Q-values \"\"\"\n",
    "        if np.random.uniform(0, 1) < self.epsilon:\n",
    "            # with probability epsilon make a random move (exploration)\n",
    "            return env.action_space.sample()\n",
    "        else:\n",
    "            # with probability 1-epsilon choose the action with the highest immediate reward (exploitation)\n",
    "            return torch.argmax(Q_val)"
   ]
  },
  {
   "cell_type": "markdown",
   "metadata": {},
   "source": []
  }
 ],
 "metadata": {
  "kernelspec": {
   "display_name": "ada",
   "language": "python",
   "name": "python3"
  },
  "language_info": {
   "codemirror_mode": {
    "name": "ipython",
    "version": 3
   },
   "file_extension": ".py",
   "mimetype": "text/x-python",
   "name": "python",
   "nbconvert_exporter": "python",
   "pygments_lexer": "ipython3",
   "version": "3.9.18"
  }
 },
 "nbformat": 4,
 "nbformat_minor": 2
}
