{
 "cells": [
  {
   "cell_type": "code",
   "execution_count": 19,
   "metadata": {},
   "outputs": [],
   "source": [
    "# pip install gymnasium\n",
    "# pip install pygame\n",
    "\n",
    "import gymnasium as gym\n",
    "from tqdm import tqdm\n",
    "import matplotlib.pyplot as plt\n",
    "import pygame\n",
    "from utils import *"
   ]
  },
  {
   "cell_type": "markdown",
   "metadata": {},
   "source": [
    "# 2. First steps"
   ]
  },
  {
   "cell_type": "markdown",
   "metadata": {},
   "source": [
    "We will start by gaining intuition on the task at hand by running a random agent. Create a\n",
    "RandomAgent, which selects actions randomly. "
   ]
  },
  {
   "cell_type": "code",
   "execution_count": 4,
   "metadata": {},
   "outputs": [],
   "source": [
    "class RandomAgent:\n",
    "        \n",
    "    def observe(self, state, action, next_state, reward):\n",
    "        \"\"\"Called upon observing a new transistion of the environment\"\"\"\n",
    "        pass\n",
    "    \n",
    "    def select_action(self, state):\n",
    "        \"\"\"\"Pick an action from the given state\"\"\"\n",
    "        return env.action_space.sample()\n",
    "    \n",
    "    def update(self):\n",
    "        \"\"\"\"Called after each environment step. \n",
    "        This is where all the training takes place\"\"\"\n",
    "        pass"
   ]
  },
  {
   "cell_type": "markdown",
   "metadata": {},
   "source": [
    "Run the agent on the environment until the episode is\n",
    "either truncated or terminated. Store the episode and render (visualize) it."
   ]
  },
  {
   "cell_type": "code",
   "execution_count": 10,
   "metadata": {},
   "outputs": [],
   "source": [
    "env = gym.make('MountainCar-v0', render_mode='human')\n",
    "\n",
    "agent = RandomAgent()\n",
    "\n",
    "done = False\n",
    "state, _ = env.reset()\n",
    "episode_reward = 0\n",
    "\n",
    "states = []\n",
    "actions = []\n",
    "rewards = []\n",
    "\n",
    "while not done:\n",
    "    env.render()\n",
    "    action = agent.select_action(state)\n",
    "    next_state, reward, terminated, truncated, _ = env.step(action)\n",
    "\n",
    "    episode_reward += reward\n",
    "    states.append(state)\n",
    "    actions.append(action)\n",
    "    rewards.append(reward)\n",
    "\n",
    "    state = next_state\n",
    "    done = terminated or truncated\n",
    "\n",
    "env.close() "
   ]
  },
  {
   "cell_type": "markdown",
   "metadata": {},
   "source": [
    "Now run the agent for 100 episodes. At every episode initialize the environment with a new randomly\n",
    "sampled seed. Plot the duration of each episode as a scatter plot. What do you find? Explain."
   ]
  },
  {
   "cell_type": "code",
   "execution_count": 17,
   "metadata": {},
   "outputs": [
    {
     "name": "stderr",
     "output_type": "stream",
     "text": [
      "100%|██████████| 100/100 [00:00<00:00, 355.12it/s]\n"
     ]
    }
   ],
   "source": [
    "env = gym.make('MountainCar-v0')\n",
    "\n",
    "agent = RandomAgent()\n",
    "episode_duration= []\n",
    "n_episodes = 100\n",
    "for n in tqdm(range(n_episodes)):\n",
    "\n",
    "    done = False\n",
    "    state, _ = env.reset()\n",
    "    states = []\n",
    "    episode_reward = 0\n",
    "    \n",
    "    while not done:\n",
    "        states.append(state)\n",
    "        action = agent.select_action(state)\n",
    "        next_state, reward, terminated, truncated, _ = env.step(action)\n",
    "\n",
    "        state = next_state\n",
    "        done = terminated or truncated\n",
    "\n",
    "    episode_duration.append(len(states))"
   ]
  },
  {
   "cell_type": "code",
   "execution_count": 18,
   "metadata": {},
   "outputs": [
    {
     "data": {
      "image/png": "[encoded data removed]",
      "text/plain": [
       "<Figure size 640x480 with 1 Axes>"
      ]
     },
     "metadata": {},
     "output_type": "display_data"
    }
   ],
   "source": [
    "plt.scatter(range(n_episodes), episode_duration)\n",
    "plt.xlabel('Episode')\n",
    "plt.ylabel('Duration')\n",
    "plt.title('Duration per Episode for RandomAgent')\n",
    "plt.show()"
   ]
  },
  {
   "cell_type": "markdown",
   "metadata": {},
   "source": [
    "We find that by taking random actions, the car is never lucky and cannot finish even a single episode. "
   ]
  },
  {
   "cell_type": "markdown",
   "metadata": {},
   "source": [
    "# 3. DQN"
   ]
  },
  {
   "cell_type": "markdown",
   "metadata": {},
   "source": [
    "## 3.1 Implementation\n",
    "Create a `DQNAgent` class that implements a DQN agent that uses a feed-forward network to estimate\n",
    "Q-values and an eps-greedy policy to take actions. Since DQN is an off-policy RL algorithm, make sure\n",
    "your class has a replay buffer that allows to add observed transitions `(s,a,r,s′)` and sample batches of\n",
    "transitions for the network updates"
   ]
  },
  {
   "cell_type": "code",
   "execution_count": null,
   "metadata": {},
   "outputs": [],
   "source": [
    "class DQNAgent:\n",
    "        \n",
    "    def observe(self, state, action, next_state, reward):\n",
    "        \"\"\"Called upon observing a new transistion of the environment\"\"\"\n",
    "        pass\n",
    "    \n",
    "    def select_action(self, state):\n",
    "        \"\"\"\"Pick an action from the given state\"\"\"\n",
    "        pass\n",
    "    \n",
    "    def update(self):\n",
    "        \"\"\"\"Called after each environment step. \n",
    "        This is where all the training takes place\"\"\"\n",
    "        pass"
   ]
  }
 ],
 "metadata": {
  "kernelspec": {
   "display_name": "ada",
   "language": "python",
   "name": "python3"
  },
  "language_info": {
   "codemirror_mode": {
    "name": "ipython",
    "version": 3
   },
   "file_extension": ".py",
   "mimetype": "text/x-python",
   "name": "python",
   "nbconvert_exporter": "python",
   "pygments_lexer": "ipython3",
   "version": "3.9.18"
  }
 },
 "nbformat": 4,
 "nbformat_minor": 2
}
